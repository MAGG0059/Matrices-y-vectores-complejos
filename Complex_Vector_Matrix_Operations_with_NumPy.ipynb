{
 "cells": [
  {
   "cell_type": "markdown",
   "id": "a07bd584",
   "metadata": {},
   "source": [
    "# Theory of Complex Vector Spaces\n",
    "Complex vector spaces extend the idea of real vector spaces by allowing vectors to have complex numbers as their components. In these spaces, vectors can be added together and multiplied by complex scalars to produce new vectors. Key operations in complex vector spaces include vector addition, scalar multiplication, vector negation, and complex conjugation."
   ]
  },
  {
   "cell_type": "markdown",
   "id": "f43fc972-23ab-4d81-aa26-c51325dac8f3",
   "metadata": {},
   "source": [
    "# Creating complex column vectors"
   ]
  },
  {
   "cell_type": "code",
   "execution_count": null,
   "id": "029f08ba-1cdc-4928-9631-f62c51ab7aa5",
   "metadata": {},
   "outputs": [],
   "source": [
    "import numpy as np\n",
    "\n",
    "# Define a 2x2 square matrix\n",
    "matrix = np.array([[2, 3],\n",
    "                   [1, 4]])\n",
    "\n",
    "# Define a vector of size 2\n",
    "vector = np.array([5, 6])\n",
    "\n",
    "# Multiply the matrix by the vector\n",
    "result = np.dot(matrix, vector)\n",
    "\n",
    "# Display the result\n",
    "print(\"Matrix:\\n\", matrix)\n",
    "print(\"\\nVector:\\n\", vector)\n",
    "print(\"\\nResult of multiplication:\\n\", result)\n"
   ]
  },
  {
   "cell_type": "markdown",
   "id": "975c2284",
   "metadata": {},
   "source": [
    "## Manipulating Complex Column Vectors using NumPy\n",
    "Here we demonstrate how to manipulate complex column vectors using NumPy, including operations like sum, negation, multiplication by a scalar, transpose, adjunct, and conjugate."
   ]
  },
  {
   "cell_type": "code",
   "execution_count": null,
   "id": "e8058abe",
   "metadata": {},
   "outputs": [],
   "source": [
    "\n",
    "import numpy as np\n",
    "\n",
    "# Define two complex column vectors\n",
    "v1 = np.array([[2+3j], [5-4j], [1+1j]])\n",
    "v2 = np.array([[1-1j], [3+2j], [4-4j]])\n",
    "\n",
    "# Sum\n",
    "sum_v = v1 + v2\n",
    "\n",
    "# Negation\n",
    "neg_v1 = -v1\n",
    "\n",
    "# Multiplication by a scalar\n",
    "scalar = 2 + 1j\n",
    "mult_v1 = v1 * scalar\n",
    "\n",
    "# Transpose\n",
    "transpose_v1 = v1.T\n",
    "\n",
    "# Adjunct (Conjugate transpose)\n",
    "adjunct_v1 = v1.T.conj()\n",
    "\n",
    "# Conjugate\n",
    "conjugate_v1 = np.conjugate(v1)\n",
    "\n",
    "(sum_v, neg_v1, mult_v1, transpose_v1, adjunct_v1, conjugate_v1)\n"
   ]
  },
  {
   "cell_type": "markdown",
   "id": "995ae5fc",
   "metadata": {},
   "source": [
    "# Theory of Vector Spaces using Matrices\n",
    "In the context of matrices, vector spaces can be defined where each vector is a matrix of a particular size. Operations on these matrix-vector spaces include matrix addition, scalar multiplication, matrix negation, transpose, adjunct, and conjugate. In this section, we focus on square matrices of size 3x3."
   ]
  },
  {
   "cell_type": "markdown",
   "id": "9385c1f0",
   "metadata": {},
   "source": [
    "## Manipulating Square Matrices using NumPy\n",
    "Examples of how to manipulate 3x3 square matrices using NumPy, showing operations such as sum, negation, multiplication by a scalar, conjugate, transpose, and adjunct."
   ]
  },
  {
   "cell_type": "code",
   "execution_count": null,
   "id": "b81ecc57",
   "metadata": {},
   "outputs": [],
   "source": [
    "\n",
    "# Define two 3x3 complex matrices\n",
    "m1 = np.array([[2+3j, 4-1j, 0], \n",
    "               [1+1j, 3+3j, 5], \n",
    "               [4, 6-2j, 1-1j]])\n",
    "m2 = np.array([[1, 2+1j, 3-3j], \n",
    "               [0, -1+2j, 1-2j], \n",
    "               [3+3j, 2, 4+4j]])\n",
    "\n",
    "# Sum\n",
    "sum_m = m1 + m2\n",
    "\n",
    "# Negation\n",
    "neg_m1 = -m1\n",
    "\n",
    "# Multiplication by a scalar\n",
    "scalar = 0.5 + 0.5j\n",
    "mult_m1 = m1 * scalar\n",
    "\n",
    "# Conjugate\n",
    "conjugate_m1 = np.conjugate(m1)\n",
    "\n",
    "# Transpose\n",
    "transpose_m1 = m1.T\n",
    "\n",
    "# Adjunct (Conjugate transpose)\n",
    "adjunct_m1 = m1.T.conj()\n",
    "\n",
    "(sum_m, neg_m1, mult_m1, conjugate_m1, transpose_m1, adjunct_m1)\n"
   ]
  },
  {
   "cell_type": "markdown",
   "id": "ed909545-8a5c-4cca-85f7-48688b597598",
   "metadata": {},
   "source": [
    "## Checking the Dimension of a Matrix\n",
    "We can check the dimension of a matrix using the `.shape` attribute."
   ]
  },
  {
   "cell_type": "code",
   "execution_count": null,
   "id": "0930dc10-af6d-427f-bbcb-75bfaf051db5",
   "metadata": {},
   "outputs": [],
   "source": [
    "# Checking the dimension of matrix1\n",
    "m1.shape"
   ]
  },
  {
   "cell_type": "markdown",
   "id": "b3fe896b",
   "metadata": {},
   "source": [
    "## Action of a Matrix on a Vector\n",
    "Finally, examples of how to use Python to multiply a 3x3 square matrix by a 3x1 column vector."
   ]
  },
  {
   "cell_type": "code",
   "execution_count": null,
   "id": "e514d047",
   "metadata": {},
   "outputs": [],
   "source": [
    "\n",
    "# Multiplying a 3x3 matrix by a 3x1 vector\n",
    "result = np.dot(m1, v1)\n",
    "result\n"
   ]
  },
  {
   "cell_type": "markdown",
   "id": "fb2321da",
   "metadata": {},
   "source": [
    "# Exercises on Complex Vectors and Matrices with Concrete Cases\n",
    "\n",
    "This set of exercises focuses on operations with complex column vectors and complex square matrices, including concrete cases with vectors and matrices written in LaTeX format.\n",
    "\n",
    "## Complex Column Vector Operations\n",
    "\n",
    "### Exercise 1: Sum of Two Complex Vectors\n",
    "Given two complex vectors \n",
    "$ v1 = \\begin{bmatrix} 1 + 2i \\\\ 3 - i \\end{bmatrix} $ \n",
    "and \n",
    "$ v2 = \\begin{bmatrix} 2 - i \\\\ 4 + 2i \\end{bmatrix} $, \n",
    "find their sum.\n"
   ]
  },
  {
   "cell_type": "code",
   "execution_count": null,
   "id": "9d2b7664",
   "metadata": {},
   "outputs": [],
   "source": [
    "import numpy as np\n",
    "\n",
    "vector_a = np.array([[3 - 5j], [4 + 6j]])\n",
    "vector_b = np.array([[1 + 6j], [8 - 3j]])\n",
    "\n",
    "resultado_suma = vector_a + vector_b\n",
    "\n",
    "print(\"\\n*** Suma de Vectores Complejos ***\\n\")\n",
    "print(\"Primer Vector:\\n\", vector_a)\n",
    "print(\"\\nSegundo Vector:\\n\", vector_b)\n",
    "print(\"\\nResultado de la Suma:\\n\", resultado_suma)"
   ]
  },
  {
   "cell_type": "markdown",
   "id": "b2c031ba",
   "metadata": {},
   "source": [
    "### Exercise 2: Negation of a Complex Vector\n",
    "Given a complex vector \n",
    "$ v = \\begin{bmatrix} 2 + 3i \\\\ 1 - 2i \\end{bmatrix} $, \n",
    "find its negation.\n"
   ]
  },
  {
   "cell_type": "code",
   "execution_count": null,
   "id": "cd7b42b2",
   "metadata": {},
   "outputs": [],
   "source": [
    "import numpy as np\n",
    "\n",
    "vector_complejo = np.array([[2 + 3j], [1 - 2j]])\n",
    "\n",
    "vector_negado = -vector_complejo\n",
    "\n",
    "print(\"\\n*** Negación de un Vector Complejo ***\\n\")\n",
    "print(\"Vector original:\\n\", vector_complejo)\n",
    "print(\"\\nVector negado:\\n\", vector_negado)"
   ]
  },
  {
   "cell_type": "markdown",
   "id": "60b57871",
   "metadata": {},
   "source": [
    "### Exercise 3: Multiplication of a Complex Vector by a Scalar\n",
    "Multiply the complex vector \n",
    "$ v = \\begin{bmatrix} 1 - i \\\\ 2 + 2i \\end{bmatrix} $ \n",
    "by the complex scalar $$ 3 + i $$.\n"
   ]
  },
  {
   "cell_type": "code",
   "execution_count": null,
   "id": "cc751cf2",
   "metadata": {},
   "outputs": [],
   "source": [
    "import numpy as np\n",
    "\n",
    "vector = np.array([[1 - 1j], [2 + 2j]])\n",
    "\n",
    "escalar = 3 + 1j\n",
    "\n",
    "resultado = vector * escalar\n",
    "\n",
    "print(\"\\n*** Multiplicación Escalar de un Vector Complejo ***\\n\")\n",
    "print(\"Vector original:\\n\", vector)\n",
    "print(\"\\nEscalar:\\n\", escalar)\n",
    "print(\"\\nResultado de la multiplicación escalar:\\n\", resultado)"
   ]
  },
  {
   "cell_type": "markdown",
   "id": "558e6a78",
   "metadata": {},
   "source": [
    "### Exercise 4: Transpose of a Complex Vector\n",
    "Find the transpose of the complex vector \n",
    "$ v = \\begin{bmatrix} 2 - i \\\\ 3 + 4i \\end{bmatrix} $."
   ]
  },
  {
   "cell_type": "code",
   "execution_count": null,
   "id": "3994da2b",
   "metadata": {},
   "outputs": [],
   "source": [
    "import numpy as np\n",
    "\n",
    "vector_complejo = np.array([[2 - 1j], [3 + 4j]])\n",
    "\n",
    "transpuesta = vector_complejo.T\n",
    "\n",
    "print(\"\\n*** Transpuesta de un Vector Complejo ***\\n\")\n",
    "print(\"Vector original:\\n\", vector_complejo)\n",
    "print(\"\\nTranspuesta del vector:\\n\", transpuesta)"
   ]
  },
  {
   "cell_type": "markdown",
   "id": "b6f19cd9",
   "metadata": {},
   "source": [
    "### Exercise 5: Conjugate of a Complex Vector\n",
    "Compute the conjugate of the complex vector \n",
    "$ v = \\begin{bmatrix} 1 + i \\\\ 2 - 3i \\end{bmatrix} $."
   ]
  },
  {
   "cell_type": "code",
   "execution_count": null,
   "id": "63f3d2bc",
   "metadata": {},
   "outputs": [],
   "source": [
    "import numpy as np\n",
    "\n",
    "vector = np.array([[1 + 1j], [2 - 3j]])\n",
    "\n",
    "vector_conjugado = np.conjugate(vector)\n",
    "\n",
    "print(\"\\n*** Conjugado de un Vector Complejo ***\\n\")\n",
    "print(\"Vector original:\\n\", vector)\n",
    "print(\"\\nConjugado del vector:\\n\", vector_conjugado)"
   ]
  },
  {
   "cell_type": "markdown",
   "id": "578118a3",
   "metadata": {},
   "source": [
    "### Exercise 6: Adjunct (Conjugate Transpose) of a Complex Vector\n",
    "Find the adjunct (or conjugate transpose) of the complex vector \n",
    "$ v = \\begin{bmatrix} 1 - 2i \\\\ 3 + i \\end{bmatrix} $."
   ]
  },
  {
   "cell_type": "code",
   "execution_count": null,
   "id": "bd27bad3",
   "metadata": {},
   "outputs": [],
   "source": [
    "import numpy as np\n",
    "\n",
    "vector = np.array([[1 - 2j], [3 + 1j]])\n",
    "\n",
    "adjunto = vector.T.conj()\n",
    "\n",
    "print(\"\\n*** Conjugado Transpuesto (Adjunto) de un Vector Complejo ***\\n\")\n",
    "print(\"Vector original:\\n\", vector)\n",
    "print(\"\\nAdjunto del vector:\\n\", adjunto)"
   ]
  },
  {
   "cell_type": "markdown",
   "id": "e78c328b",
   "metadata": {},
   "source": [
    "\n",
    "### Exercise 7: Sum of Two Complex Matrices\n",
    "Given two complex matrices \n",
    "$ m1 = \\begin{bmatrix} 1 + i & 2 - i \\\\ 3 + 2i & 4 \\end{bmatrix} $\n",
    "and \n",
    "$ m2 = \\begin{bmatrix} 2 - 3i & 1 \\\\ i & 2 + 2i \\end{bmatrix} $, \n",
    "calculate their sum."
   ]
  },
  {
   "cell_type": "code",
   "execution_count": null,
   "id": "51b3ce95",
   "metadata": {},
   "outputs": [],
   "source": [
    "import numpy as np\n",
    "\n",
    "matriz1 = np.array([[1 + 1j, 2 - 1j], [3 + 2j, 4]])\n",
    "matriz2 = np.array([[2 - 3j, 1], [1j, 2 + 2j]])\n",
    "\n",
    "resultado_suma = matriz1 + matriz2\n",
    "\n",
    "print(\"\\n*** Suma de Matrices Complejas ***\\n\")\n",
    "print(\"Matriz 1:\\n\", matriz1)\n",
    "print(\"\\nMatriz 2:\\n\", matriz2)\n",
    "print(\"\\nResultado de la suma:\\n\", resultado_suma)"
   ]
  },
  {
   "cell_type": "markdown",
   "id": "b9255da2",
   "metadata": {},
   "source": [
    "### Exercise 8: Negation of a Complex Matrix\n",
    "Find the negation of the complex matrix \n",
    "$ m = \\begin{bmatrix} 2 + i & 3 \\\\ 1 - i & 2 + 2i \\end{bmatrix} $."
   ]
  },
  {
   "cell_type": "code",
   "execution_count": null,
   "id": "a400d43f",
   "metadata": {},
   "outputs": [],
   "source": [
    "import numpy as np\n",
    "\n",
    "matriz = np.array([[2 + 1j, 3], [1 - 1j, 2 + 2j]])\n",
    "\n",
    "matriz_negada = -matriz\n",
    "\n",
    "print(\"\\n*** Negación de una Matriz Compleja ***\\n\")\n",
    "print(\"Matriz original:\\n\", matriz)\n",
    "print(\"\\nMatriz negada:\\n\", matriz_negada)"
   ]
  },
  {
   "cell_type": "markdown",
   "id": "72f5b9e0",
   "metadata": {},
   "source": [
    "### Exercise 9: Multiplication of a Complex Matrix by a Scalar\n",
    "Multiply the complex matrix \n",
    "$ m = \\begin{bmatrix} 1 - i & 2 \\\\ 3 + i & 4 - 2i \\end{bmatrix} $ \n",
    "by the complex scalar $$ 2 + 3i $$."
   ]
  },
  {
   "cell_type": "code",
   "execution_count": null,
   "id": "de135877",
   "metadata": {},
   "outputs": [],
   "source": [
    "import numpy as np\n",
    "\n",
    "matriz = np.array([[1 - 1j, 2], [3 + 1j, 4 - 2j]])\n",
    "\n",
    "escalar = 2 + 3j\n",
    "\n",
    "resultado = matriz * escalar\n",
    "\n",
    "print(\"\\n*** Multiplicación de una Matriz por un Escalar Complejo ***\\n\")\n",
    "print(\"Matriz original:\\n\", matriz)\n",
    "print(\"\\nEscalar:\\n\", escalar)\n",
    "print(\"\\nResultado de la multiplicación:\\n\", resultado)"
   ]
  },
  {
   "cell_type": "markdown",
   "id": "df72224d",
   "metadata": {},
   "source": [
    "### Exercise 10: Conjugate of a Complex Matrix\n",
    "Compute the conjugate of the complex matrix \n",
    "$ m = \\begin{bmatrix} 1 + i & 2 \\\\ 3 - i & 4 + 2i \\end{bmatrix} $."
   ]
  },
  {
   "cell_type": "code",
   "execution_count": null,
   "id": "b1519d93",
   "metadata": {},
   "outputs": [],
   "source": [
    "import numpy as np\n",
    "\n",
    "matriz = np.array([[1 + 1j, 2], [3 - 1j, 4 + 2j]])\n",
    "\n",
    "matriz_conjugada = np.conjugate(matriz)\n",
    "\n",
    "print(\"\\n*** Conjugado de una Matriz Compleja ***\\n\")\n",
    "print(\"Matriz original:\\n\", matriz)\n",
    "print(\"\\nMatriz conjugada:\\n\", matriz_conjugada)"
   ]
  },
  {
   "cell_type": "markdown",
   "id": "53705a7f",
   "metadata": {},
   "source": [
    "### Exercise 11: Transpose of a Complex Matrix\n",
    "Find the transpose of the complex matrix \n",
    "$ m = \\begin{bmatrix} 1 - i & 2 + 2i \\\\ 3 & 4 - i \\end{bmatrix} $."
   ]
  },
  {
   "cell_type": "code",
   "execution_count": null,
   "id": "6721d6cc",
   "metadata": {},
   "outputs": [],
   "source": [
    "import numpy as np\n",
    "\n",
    "matriz = np.array([[1 - 1j, 2 + 2j], [3, 4 - 1j]])\n",
    "\n",
    "matriz_transpuesta = matriz.T\n",
    "\n",
    "print(\"\\n*** Transpuesta de una Matriz Compleja ***\\n\")\n",
    "print(\"Matriz original:\\n\", matriz)\n",
    "print(\"\\nMatriz transpuesta:\\n\", matriz_transpuesta)"
   ]
  },
  {
   "cell_type": "markdown",
   "id": "807d9dc9",
   "metadata": {},
   "source": [
    "### Exercise 12: Adjunct (Conjugate Transpose) of a Complex Matrix\n",
    "Calculate the adjunct (or conjugate transpose) of the complex matrix \n",
    "$ m = \\begin{bmatrix} 1 + 2i & 3 - i \\\\ 4 & 5 + i \\end{bmatrix} $."
   ]
  },
  {
   "cell_type": "code",
   "execution_count": null,
   "id": "3a70e6bb",
   "metadata": {},
   "outputs": [],
   "source": [
    "import numpy as np\n",
    "\n",
    "A = np.array([[5+2j, -3j], [7-4j, 1+6j]])\n",
    "hermitiana_A = np.conjugate(A.T)\n",
    "\n",
    "print(\"La matriz original es:\\n\\n\", A, \"\\n\")\n",
    "print(\"Su matriz adjunta (conjugada transpuesta) es:\\n\\n\", hermitiana_A)\n"
   ]
  },
  {
   "cell_type": "markdown",
   "id": "ae7eed22",
   "metadata": {},
   "source": [
    "### Exercise 13: Checking the Dimensions of a Matrix\n",
    "Determine the dimensions of the complex matrix \n",
    "$ m = \\begin{bmatrix} 1 - i & 2 \\\\ 3 + 2i & 4 - i \\end{bmatrix} $."
   ]
  },
  {
   "cell_type": "code",
   "execution_count": null,
   "id": "581f9bfc",
   "metadata": {},
   "outputs": [],
   "source": [
    "import numpy as np\n",
    "\n",
    "B = np.array([[0+3j, -5], [8-2j, 7+4j]])\n",
    "\n",
    "print(f\"La matriz:\\n{B}\\nTiene dimensión: {B.shape}\")\n"
   ]
  },
  {
   "cell_type": "markdown",
   "id": "9b8f6dca",
   "metadata": {},
   "source": [
    "\n",
    "### Exercise 14: Multiplying a Complex Square Matrix by a Complex Column Vector\n",
    "Multiply the complex square matrix \n",
    "$ m = \\begin{bmatrix} 1 + i & 2 - i \\\\ 3 & 4 + i \\end{bmatrix} $ \n",
    "by the complex column vector \n",
    "$ v = \\begin{bmatrix} 2 - i \\\\ 1 + 3i \\end{bmatrix} $."
   ]
  },
  {
   "cell_type": "code",
   "execution_count": null,
   "id": "0c822870",
   "metadata": {},
   "outputs": [],
   "source": [
    "import numpy as np\n",
    "\n",
    "A = np.array([[5+3j, -2j], [7-1j, 4+2j]])\n",
    "w = np.array([[1-4j], [3+5j]])\n",
    "producto = np.dot(A, w)\n",
    "\n",
    "print(\"La matriz:\\n\", A, \"\\nMultiplicada por el vector:\\n\", w)\n",
    "print(\"Da como resultado:\\n\", producto)\n"
   ]
  }
 ],
 "metadata": {
  "kernelspec": {
   "display_name": ".venv",
   "language": "python",
   "name": "python3"
  },
  "language_info": {
   "codemirror_mode": {
    "name": "ipython",
    "version": 3
   },
   "file_extension": ".py",
   "mimetype": "text/x-python",
   "name": "python",
   "nbconvert_exporter": "python",
   "pygments_lexer": "ipython3",
   "version": "3.12.1"
  }
 },
 "nbformat": 4,
 "nbformat_minor": 5
}
